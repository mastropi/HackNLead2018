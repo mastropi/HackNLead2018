{
 "cells": [
  {
   "cell_type": "code",
   "execution_count": 3,
   "metadata": {},
   "outputs": [],
   "source": [
    "from google.cloud import language\n",
    "from google.cloud.language import enums\n",
    "from google.cloud.language import types\n",
    "import os\n",
    "import six\n",
    "import pandas as pd"
   ]
  },
  {
   "cell_type": "code",
   "execution_count": 4,
   "metadata": {},
   "outputs": [],
   "source": [
    "os.environ[\"GOOGLE_APPLICATION_CREDENTIALS\"] = \"Keyfile path and name\""
   ]
  },
  {
   "cell_type": "code",
   "execution_count": 5,
   "metadata": {},
   "outputs": [],
   "source": [
    "prj_dir=\"C:/Users/mitra/Documents/HacknLead/Robo_VC/\"\n",
    "data_dir = prj_dir + \"challenge_data/\""
   ]
  },
  {
   "cell_type": "code",
   "execution_count": 6,
   "metadata": {},
   "outputs": [],
   "source": [
    "df_startup = pd.read_csv(data_dir +'Data1.csv')"
   ]
  },
  {
   "cell_type": "code",
   "execution_count": 7,
   "metadata": {},
   "outputs": [],
   "source": [
    "def extract_entities(txtstr):\n",
    "\n",
    "    client = language.LanguageServiceClient()\n",
    "\n",
    "    if isinstance(txtstr, six.binary_type):\n",
    "        text = txtstr.decode('utf-8')\n",
    "        \n",
    "    document = types.Document(\n",
    "        content=txtstr,\n",
    "        type=enums.Document.Type.PLAIN_TEXT)\n",
    "\n",
    "    all_entities = client.analyze_entities(document).entities\n",
    "    dict_extract_entity={}\n",
    "    for entity in all_entities:\n",
    "        dict_extract_entity[entity.name]=entity.salience\n",
    "     \n",
    "    return dict_extract_entity"
   ]
  },
  {
   "cell_type": "code",
   "execution_count": 8,
   "metadata": {},
   "outputs": [],
   "source": [
    "def extract_categories(txtstr):\n",
    "\n",
    "    client = language.LanguageServiceClient()\n",
    "\n",
    "    if isinstance(txtstr, six.binary_type):\n",
    "        text = txtstr.decode('utf-8')\n",
    "        \n",
    "    document = types.Document(\n",
    "        content=txtstr,\n",
    "        type=enums.Document.Type.PLAIN_TEXT)\n",
    "\n",
    "    all_categories = client.classify_text(document).categories\n",
    "    dict_extract_category={}\n",
    "    for category in all_categories:\n",
    "        dict_extract_category[category.name]=category.confidence\n",
    "     \n",
    "    return dict_extract_category"
   ]
  },
  {
   "cell_type": "code",
   "execution_count": 9,
   "metadata": {},
   "outputs": [],
   "source": [
    "dict_compnm_1liner_desc_entities={}\n",
    "dict_compnm_1liner_desc_category={}\n",
    "for index, row in df_startup.iterrows():\n",
    "    company_nm=row['Company']\n",
    "    company_1liner=row['1Liner']\n",
    "    company_desc=row['Description']\n",
    "    company_1liner_desc=str(company_1liner)+'. '+str(company_desc)\n",
    "    dict_compnm_1liner_desc_entities[company_nm]=extract_entities(company_1liner_desc)\n",
    "    dict_compnm_1liner_desc_category[company_nm]=extract_categories(company_1liner_desc)"
   ]
  },
  {
   "cell_type": "code",
   "execution_count": 10,
   "metadata": {},
   "outputs": [
    {
     "name": "stdout",
     "output_type": "stream",
     "text": [
      "{'ImmunOs Therapeutics GmbH': {'novel method': 0.26314687728881836, 'Drug development': 0.260301798582077, 'kinds': 0.12348178774118423, 'tumors': 0.10608025640249252, 'immunotherapies': 0.04074065014719963, 'combination therapies': 0.03743147850036621, 'discoveries': 0.03294047713279724, 'human immunomodulatory proteins': 0.026854272931814194, 'generation': 0.02679172158241272, 'role': 0.024602806195616722, 'ImmunOs Therapeutics AG': 0.022663507610559464, 'adaptive immune system': 0.017482170835137367, 'cancer treatment': 0.017482170835137367}, 'SmartCardia SA': {'device': 0.5347155928611755, 'solution': 0.09678380191326141, 'algorithms': 0.06389545649290085, 'monitoring': 0.0592108853161335, 'Cloud': 0.05846404284238815, 'software': 0.0183440949767828, 'patient': 0.0183440949767828, 'ECG monitors': 0.015467559918761253, 'doctor': 0.006860013119876385, 'hospital center': 0.012500192038714886, 'smart phone': 0.012500192038714886, 'data': 0.012348213233053684, 'records': 0.012348213233053684, 'dangers': 0.011433791369199753, 'ECG monitoring device': 0.010728450492024422, 'ECG': 0.009123755618929863, 'hospital': 0.006860013119876385, 'events': 0.006860013119876385, 'warning': 0.006027410738170147, 'case': 0.006027410738170147, 'arrhythmia events': 0.004313704092055559, 'heart': 0.0037894914858043194}, 'Leman Micro Devices SA': {'healthcare sector': 0.16275590658187866, 'technology': 0.14122013747692108, 'blood pressure': 0.034749310463666916, 'smartphone': 0.09911045432090759, 'health monitor': 0.07979262620210648, 'signs': 0.030551455914974213, 'consent': 0.030551455914974213, 'data': 0.02349894680082798, 'statistics': 0.02349894680082798, 'certification': 0.020986057817935944, 'solution': 0.020803725346922874, 'devices': 0.020803725346922874, 'physician': 0.02065274678170681, 'bodies': 0.019026456400752068, 'smartphones': 0.017811330035328865, 'detection': 0.014310714788734913, 'treatment': 0.014310714788734913, 'volume': 0.014278731308877468, 'DB': 0.012323019094765186, 'health statistics': 0.011383525095880032, 'CE': 0.011262066662311554, 'FDA': 0.011262066662311554, 'measurements': 0.010000874288380146, 'data mining': 0.010000874288380146, 'risk factor': 0.008034220896661282, 'symptoms': 0.0062827556394040585, 'deaths': 0.0062827556394040585}}\n"
     ]
    }
   ],
   "source": [
    "#print(dict_compnm_1liner_desc_entities)"
   ]
  },
  {
   "cell_type": "code",
   "execution_count": 11,
   "metadata": {},
   "outputs": [
    {
     "name": "stdout",
     "output_type": "stream",
     "text": [
      "{'ImmunOs Therapeutics GmbH': {'/Health/Pharmacy/Drugs & Medications': 0.6200000047683716, '/Business & Industrial/Pharmaceuticals & Biotech': 0.5699999928474426}, 'SmartCardia SA': {'/Health/Health Conditions/Heart & Hypertension': 0.8799999952316284, '/Health/Medical Facilities & Services': 0.550000011920929, '/Health/Medical Devices & Equipment': 0.5199999809265137}, 'Leman Micro Devices SA': {'/Health': 0.949999988079071}}\n"
     ]
    }
   ],
   "source": [
    "#print(dict_compnm_1liner_desc_category)"
   ]
  },
  {
   "cell_type": "code",
   "execution_count": null,
   "metadata": {},
   "outputs": [],
   "source": []
  }
 ],
 "metadata": {
  "kernelspec": {
   "display_name": "Python 3",
   "language": "python",
   "name": "python3"
  },
  "language_info": {
   "codemirror_mode": {
    "name": "ipython",
    "version": 3
   },
   "file_extension": ".py",
   "mimetype": "text/x-python",
   "name": "python",
   "nbconvert_exporter": "python",
   "pygments_lexer": "ipython3",
   "version": "3.6.4"
  }
 },
 "nbformat": 4,
 "nbformat_minor": 2
}
