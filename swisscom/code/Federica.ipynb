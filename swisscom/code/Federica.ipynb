{
 "cells": [
  {
   "cell_type": "markdown",
   "metadata": {},
   "source": [
    "# Information about previous top 100 winners\n",
    "\n",
    "### Sectors: ICT, Life Sciences, Cleantech, Hightech, Products and Services\n",
    "### Filters: Technology, Location, Founding Year, Support, University"
   ]
  },
  {
   "cell_type": "markdown",
   "metadata": {},
   "source": [
    "# Import modules"
   ]
  },
  {
   "cell_type": "code",
   "execution_count": 89,
   "metadata": {
    "collapsed": true
   },
   "outputs": [],
   "source": [
    "import numpy as np\n",
    "import pandas as pd\n",
    "import matplotlib.pyplot as plt"
   ]
  },
  {
   "cell_type": "markdown",
   "metadata": {},
   "source": [
    "# Tools for cleaning data"
   ]
  },
  {
   "cell_type": "code",
   "execution_count": 90,
   "metadata": {
    "collapsed": true
   },
   "outputs": [],
   "source": [
    "def get_clean_data(year) :\n",
    "    \"\"\"\n",
    "    Retrieve the data corresponding to the 100 winners of a given year from an Excel file and do some cleaning of the data.\n",
    "    \"\"\"\n",
    "    filename = '../data/WinnerStartups'+str(year)+'.xlsx'\n",
    "\n",
    "    df = pd.read_excel(filename)\n",
    "    #print(df.head())\n",
    "\n",
    "    dfPart1 = df.loc[np.arange(0,df.shape[0],2),]\n",
    "    #print(dfPart1.head())\n",
    "    #print(dfPart1.shape)\n",
    "\n",
    "    dfPart2 = df.loc[np.arange(1,df.shape[0],2),]\n",
    "    #print(dfPart2['Startup'].head())\n",
    "\n",
    "    dfPart2['City'],dfPart2['Year']=dfPart2['Startup'].str.split(', ',1).str\n",
    "    #print(dfPart2[['City','Year']].head())\n",
    "\n",
    "    dfPart1Temp = dfPart1.reset_index()\n",
    "    #print(dfPart1Temp.head())\n",
    "\n",
    "    dfPart2Temp = dfPart2.reset_index()\n",
    "    #print(dfPart2Temp.head())\n",
    "\n",
    "    dfClean = pd.DataFrame()\n",
    "    for col in ['Rank','Startup','Description'] :\n",
    "        dfClean[col] = dfPart1Temp[col]\n",
    "    for col in ['City','Year'] :\n",
    "        dfClean[col] = dfPart2Temp[col]\n",
    "\n",
    "    return dfClean"
   ]
  },
  {
   "cell_type": "markdown",
   "metadata": {},
   "source": [
    "# Market analysis "
   ]
  },
  {
   "cell_type": "code",
   "execution_count": 91,
   "metadata": {
    "collapsed": true
   },
   "outputs": [],
   "source": [
    "macro_sectors = ['ICT','Life Sciences','Cleantech','Hightech','Products and Services']\n",
    "sectorsDict = {\n",
    "    'ICT':[\n",
    "        'Advertising',\n",
    "        'Applications',\n",
    "        'AR/VR/MR',\n",
    "        'Big Data',\n",
    "        'Blockchain',\n",
    "        'Cloud',\n",
    "        'Consumer',\n",
    "        'Digital Health',\n",
    "        'Ecommerce',\n",
    "        'Enterprise',\n",
    "        'Gaming',\n",
    "        'Internet',\n",
    "        'IoT',\n",
    "        'Machine Learning/AI',\n",
    "        'Marketplace',\n",
    "        'Media',\n",
    "        'Mobile',\n",
    "        'Open source',\n",
    "        'SaaS',\n",
    "        'Security',\n",
    "        'Social networks',\n",
    "        'Software',\n",
    "        'Wearable technologies'\n",
    "    ],\n",
    "    'Life Sciences':[\n",
    "        'Antibodies',\n",
    "        'Bioinformatics',\n",
    "        'Biomaterials',\n",
    "        'Biotech',\n",
    "        'Cancer',\n",
    "        'Cardiovascular',\n",
    "        'Diagnostics',\n",
    "        'Drug development platforms',\n",
    "        'Drug discovery',\n",
    "        'Healthcare infrastructure',\n",
    "        'Infection',\n",
    "        'Imaging and Radiology',\n",
    "        'Inflammation',\n",
    "        'Medical devices',\n",
    "        'Medtech',\n",
    "        'Neurology',\n",
    "        'Organ and Tissues',\n",
    "        'Patient monitoring',\n",
    "        'Protein drugs',\n",
    "        'Rehab',\n",
    "        'Screening',\n",
    "        'Small molecule drugs',\n",
    "        'Surgery',\n",
    "        'Urology',\n",
    "        'Vaccines',\n",
    "        'Wound management',\n",
    "        ],\n",
    "    'Cleantech':[\n",
    "        'Air and Environment',\n",
    "        'Cleantech',\n",
    "        'Energy efficiency',\n",
    "        'Energy production',\n",
    "        'Energy storage',\n",
    "        'Mobility',\n",
    "        'Renewable energy',\n",
    "        'Smart Home',\n",
    "        'Smart Power, Green Grid',\n",
    "        'Solar',\n",
    "        'Water and wastewater',\n",
    "    ],\n",
    "    'Hightech':[\n",
    "        'AgriTech',\n",
    "        'Automotive',\n",
    "        'Aviation and Aerospace',\n",
    "        'Chemicals',\n",
    "        'Drones',\n",
    "        'Electronics',\n",
    "        'Materials',\n",
    "        'Hightech',\n",
    "        'Instruments',\n",
    "        'Mechanics',\n",
    "        'Micro technologies',\n",
    "        'Nano technologies',\n",
    "        'Optics',\n",
    "        'Robotics',\n",
    "        'Sensors',\n",
    "        'Semiconductors',\n",
    "        'Wireless',\n",
    "        'Interdisciplinary',\n",
    "    ],\n",
    "    'Products and Services':[\n",
    "        'Consumer products',\n",
    "        'Communications',\n",
    "        'Consulting services',\n",
    "        'Education',\n",
    "        'Finance',\n",
    "        'Fintech',\n",
    "        'Food',\n",
    "        'Hardware',\n",
    "        'Marketing services',\n",
    "        'OEM, Production',\n",
    "        'Real estate and construction',\n",
    "        'Research and development',\n",
    "        'Services for companies',\n",
    "        'Services for consumers',\n",
    "        'Sport',\n",
    "    ],\n",
    "}"
   ]
  },
  {
   "cell_type": "code",
   "execution_count": 92,
   "metadata": {
    "collapsed": false
   },
   "outputs": [
    {
     "data": {
      "text/html": [
       "<div>\n",
       "<table border=\"1\" class=\"dataframe\">\n",
       "  <thead>\n",
       "    <tr style=\"text-align: right;\">\n",
       "      <th></th>\n",
       "      <th>Year</th>\n",
       "      <th>ICT</th>\n",
       "      <th>Life Sciences</th>\n",
       "      <th>Cleantech</th>\n",
       "      <th>Hightech</th>\n",
       "      <th>Products and Services</th>\n",
       "    </tr>\n",
       "  </thead>\n",
       "  <tbody>\n",
       "    <tr>\n",
       "      <th>0</th>\n",
       "      <td>2017</td>\n",
       "      <td>196</td>\n",
       "      <td>135</td>\n",
       "      <td>31</td>\n",
       "      <td>126</td>\n",
       "      <td>61</td>\n",
       "    </tr>\n",
       "    <tr>\n",
       "      <th>1</th>\n",
       "      <td>2016</td>\n",
       "      <td>150</td>\n",
       "      <td>107</td>\n",
       "      <td>34</td>\n",
       "      <td>64</td>\n",
       "      <td>57</td>\n",
       "    </tr>\n",
       "    <tr>\n",
       "      <th>2</th>\n",
       "      <td>2015</td>\n",
       "      <td>120</td>\n",
       "      <td>85</td>\n",
       "      <td>27</td>\n",
       "      <td>89</td>\n",
       "      <td>44</td>\n",
       "    </tr>\n",
       "    <tr>\n",
       "      <th>3</th>\n",
       "      <td>2014</td>\n",
       "      <td>90</td>\n",
       "      <td>68</td>\n",
       "      <td>26</td>\n",
       "      <td>68</td>\n",
       "      <td>33</td>\n",
       "    </tr>\n",
       "    <tr>\n",
       "      <th>4</th>\n",
       "      <td>2013</td>\n",
       "      <td>78</td>\n",
       "      <td>64</td>\n",
       "      <td>35</td>\n",
       "      <td>81</td>\n",
       "      <td>27</td>\n",
       "    </tr>\n",
       "    <tr>\n",
       "      <th>5</th>\n",
       "      <td>2012</td>\n",
       "      <td>30</td>\n",
       "      <td>30</td>\n",
       "      <td>9</td>\n",
       "      <td>24</td>\n",
       "      <td>4</td>\n",
       "    </tr>\n",
       "    <tr>\n",
       "      <th>6</th>\n",
       "      <td>2011</td>\n",
       "      <td>0</td>\n",
       "      <td>0</td>\n",
       "      <td>0</td>\n",
       "      <td>0</td>\n",
       "      <td>0</td>\n",
       "    </tr>\n",
       "  </tbody>\n",
       "</table>\n",
       "</div>"
      ],
      "text/plain": [
       "   Year  ICT  Life Sciences  Cleantech  Hightech  Products and Services\n",
       "0  2017  196            135         31       126                     61\n",
       "1  2016  150            107         34        64                     57\n",
       "2  2015  120             85         27        89                     44\n",
       "3  2014   90             68         26        68                     33\n",
       "4  2013   78             64         35        81                     27\n",
       "5  2012   30             30          9        24                      4\n",
       "6  2011    0              0          0         0                      0"
      ]
     },
     "execution_count": 92,
     "metadata": {},
     "output_type": "execute_result"
    }
   ],
   "source": [
    "# From wayback machine, going back to the historical version of the website.\n",
    "data = pd.DataFrame(columns=['Year']+macro_sectors)\n",
    "data['Year']=[2017,2016,2015,2014,2013,2012,2011]\n",
    "data['ICT']=[196,150,120,90,78,30,0]\n",
    "data['Life Sciences']=[135,107,85,68,64,30,0]\n",
    "data['Cleantech']=[31,34,27,26,35,9,0]\n",
    "data['Hightech']=[126,64,89,68,81,24,0]\n",
    "data['Products and Services']=[61,57,44,33,27,4,0]\n",
    "data.head(7)"
   ]
  },
  {
   "cell_type": "code",
   "execution_count": 93,
   "metadata": {
    "collapsed": false
   },
   "outputs": [
    {
     "data": {
      "image/png": "[encoded data removed]",
      "text/plain": [
       "<matplotlib.figure.Figure at 0x125e929b0>"
      ]
     },
     "metadata": {},
     "output_type": "display_data"
    }
   ],
   "source": [
    "plt.figure(1)\n",
    "plt.plot(data['Year'],data['ICT'])\n",
    "plt.plot(data['Year'],data['Life Sciences'])\n",
    "plt.plot(data['Year'],data['Cleantech'])\n",
    "plt.plot(data['Year'],data['Hightech'])\n",
    "plt.plot(data['Year'],data['Products and Services'])\n",
    "plt.xlabel('Year')\n",
    "plt.ylabel('#startups')\n",
    "plt.legend(loc='best')\n",
    "plt.show()\n",
    "plt.savefig('../results/Trends.pdf',format='pdf')"
   ]
  },
  {
   "cell_type": "markdown",
   "metadata": {},
   "source": [
    "# Data processing"
   ]
  },
  {
   "cell_type": "code",
   "execution_count": 94,
   "metadata": {
    "collapsed": false
   },
   "outputs": [
    {
     "name": "stdout",
     "output_type": "stream",
     "text": [
      "   Rank        Startup                                        Description  \\\n",
      "0   1.0         Ava AG  Ava crafts a natural and reliable technology t...   \n",
      "1   2.0    L.E.S.S. SA  L.E.S.S. SA (“Light Efficient SystemS”) has pr...   \n",
      "2   3.0  Flyability SA  Flyability is developing Gimball, a game-chang...   \n",
      "3   4.0       bexio AG  bexio develops and sells an accounting softwar...   \n",
      "4   5.0    MindMaze SA  MindMaze combines immersive virtual reality, b...   \n",
      "\n",
      "         City  Year  \n",
      "0      Zürich  2014  \n",
      "1    Ecublens  2012  \n",
      "2    Lausanne  2014  \n",
      "3  Rapperswil  2013  \n",
      "4    Ecublens  2012  \n",
      "   Rank                                        Startup  \\\n",
      "0   1.0                                    L.E.S.S. SA   \n",
      "1   2.0                                       Bcomp AG   \n",
      "2   3.0  Knip AG (acquired by Digital Insurance Group)   \n",
      "3   4.0                                  Flyability SA   \n",
      "4   5.0                             Sophia Genetics SA   \n",
      "\n",
      "                                         Description           City  \\\n",
      "0  L.E.S.S. SA (“Light Efficient SystemS”) has pr...       Ecublens   \n",
      "1  Bcomp develops and sells high-performance semi...       Fribourg   \n",
      "2  Knip is a digital insurance navigator that sim...         Zurich   \n",
      "3  Flyability is developing Gimball, a game-chang...       Lausanne   \n",
      "4  Sophia Genetics SA is expert in medical bioinf...  Saint Sulpice   \n",
      "\n",
      "                Year  \n",
      "0               2012  \n",
      "1               2011  \n",
      "2  Switzerland, 2013  \n",
      "3               2014  \n",
      "4               2011  \n",
      "   Rank             Startup  \\\n",
      "0   1.0         L.E.S.S. SA   \n",
      "1   2.0          Abionic SA   \n",
      "2   3.0       Flyability SA   \n",
      "3   4.0            Bcomp AG   \n",
      "4   5.0  Sophia Genetics SA   \n",
      "\n",
      "                                         Description           City  Year  \n",
      "0  L.E.S.S. SA (“Light Efficient SystemS”) has pr...       Ecublens  2012  \n",
      "1  Abionic SA is ideally positioned at the bounda...      Epalinges  2010  \n",
      "2  Flyability is developing Gimball, a game-chang...       Lausanne  2014  \n",
      "3  Bcomp develops and sells high-performance semi...       Fribourg  2011  \n",
      "4  Sophia Genetics SA is expert in medical bioinf...  Saint Sulpice  2011  \n",
      "   Rank                                 Startup  \\\n",
      "0   1.0                             InSphero AG   \n",
      "1   2.0                             L.E.S.S. SA   \n",
      "2   3.0                              Abionic SA   \n",
      "3   4.0  HouseTrip SA (acquired by TripAdvisor)   \n",
      "4   5.0                           QualySense AG   \n",
      "\n",
      "                                         Description            City  Year  \n",
      "0  InSphero is a leading supplier of organotypic,...       Schlieren  2009  \n",
      "1  L.E.S.S. SA (“Light Efficient SystemS”) has pr...        Ecublens  2012  \n",
      "2  Abionic SA is ideally positioned at the bounda...       Epalinges  2010  \n",
      "3  HouseTrip is one of Europe’s largest holiday r...  London W1T 7RJ  2009  \n",
      "4  QualySense develops high-end sorting solutions...      Glattbrugg  2010  \n",
      "   Rank                                 Startup  \\\n",
      "0   1.0  HouseTrip SA (acquired by TripAdvisor)   \n",
      "1   2.0                            BioVersys AG   \n",
      "2   3.0                              Abionic SA   \n",
      "3   4.0                             L.E.S.S. SA   \n",
      "4   5.0                             InSphero AG   \n",
      "\n",
      "                                         Description            City  Year  \n",
      "0  HouseTrip is one of Europe’s largest holiday r...  London W1T 7RJ  2009  \n",
      "1  BioVersys is a privately held Swiss biopharmac...           Basel  2008  \n",
      "2  Abionic SA is ideally positioned at the bounda...       Epalinges  2010  \n",
      "3  L.E.S.S. SA (“Light Efficient SystemS”) has pr...        Ecublens  2012  \n",
      "4  InSphero is a leading supplier of organotypic,...       Schlieren  2009  \n",
      "   Rank                                 Startup  \\\n",
      "0   1.0  HouseTrip SA (acquired by TripAdvisor)   \n",
      "1   2.0                             InSphero AG   \n",
      "2   3.0                         GetYourGuide AG   \n",
      "3   4.0                             Malcisbo AG   \n",
      "4   5.0                            BioVersys AG   \n",
      "\n",
      "                                         Description            City  Year  \n",
      "0  HouseTrip is one of Europe’s largest holiday r...  London W1T 7RJ  2009  \n",
      "1  InSphero is a leading supplier of organotypic,...       Schlieren  2009  \n",
      "2  GetYourGuide is a booking platform for tours, ...          Zürich  2008  \n",
      "3  Malcisbo develops novel carbohydrate-based vac...       Schlieren  2010  \n",
      "4  BioVersys is a privately held Swiss biopharmac...           Basel  2008  \n",
      "   Rank                             Startup  \\\n",
      "0   1.0                         Optotune AG   \n",
      "1   2.0  Dacuda AG (acquired by Magic Leap)   \n",
      "2   3.0     Doodle AG (acquired by Tamedia)   \n",
      "3   4.0     Lemoptix SA (acquired by Intel)   \n",
      "4   5.0          Poken SA (acquired by GES)   \n",
      "\n",
      "                                         Description      City  Year  \n",
      "0  A new technology based on electro active polym...  Dietikon  2008  \n",
      "1  Dacuda is a Swiss software company offering lo...    Zürich  2009  \n",
      "2  Some questions are more informative than their...    Zürich  2006  \n",
      "3  Lemoptix develops, sells and licenses next-gen...  Lausanne  2008  \n",
      "4  Poken is revolutionizing the event industry wi...  Lausanne  2007  \n"
     ]
    }
   ],
   "source": [
    "years = [2017,2016,2015,2014,2013,2012,2011]\n",
    "\n",
    "dfDict = {}\n",
    "\n",
    "for year in years :\n",
    "    dfDict[year] = get_clean_data(year)\n",
    "    print(dfDict[year].head())"
   ]
  },
  {
   "cell_type": "code",
   "execution_count": 95,
   "metadata": {
    "collapsed": false
   },
   "outputs": [],
   "source": [
    "# Prepare a dictionary with keys corresponding to years and values corresponding to list of top 100 winners of that year. \n",
    "# Useful to loop over startups.\n",
    "winnersDict = {}\n",
    "for year in years:\n",
    "    winnersDict[year] = dfDict[year]['Startup'].values\n",
    "    # print(winnersDict[year])"
   ]
  },
  {
   "cell_type": "code",
   "execution_count": 96,
   "metadata": {
    "collapsed": false
   },
   "outputs": [],
   "source": [
    "# For each year, add a column to the corresponding dataframe with the number of times the startup was in the top 100 winners.\n",
    "def count(startup,year) :\n",
    "    counter = 0\n",
    "    for i_year in years :\n",
    "        if (i_year<year) :\n",
    "            if (startup in winnersDict[i_year]) :\n",
    "                counter += 1\n",
    "    return counter"
   ]
  },
  {
   "cell_type": "code",
   "execution_count": 97,
   "metadata": {
    "collapsed": false
   },
   "outputs": [
    {
     "name": "stdout",
     "output_type": "stream",
     "text": [
      "   A  B         C\n",
      "0  1  4  1.000000\n",
      "1  2  5  1.414214\n",
      "2  3  6  1.732051\n"
     ]
    }
   ],
   "source": [
    "# Example of how to apply a function to each row.\n",
    "df = pd.DataFrame()\n",
    "df['A'] = [1,2,3]\n",
    "df['B'] = [4,5,6]\n",
    "df['C'] = df['A'].apply(np.sqrt)\n",
    "print(df.head())"
   ]
  },
  {
   "cell_type": "code",
   "execution_count": 98,
   "metadata": {
    "collapsed": false
   },
   "outputs": [
    {
     "name": "stdout",
     "output_type": "stream",
     "text": [
      "Year: 2017\n",
      "Min #wins: 0\n",
      "Max #wins: 5\n",
      "Company corresponding to max #wins: 1\n",
      "Company corresponding to max #wins: L.E.S.S. SA\n",
      "Year: 2016\n",
      "Min #wins: 0\n",
      "Max #wins: 4\n",
      "Company corresponding to max #wins: 0\n",
      "Company corresponding to max #wins: L.E.S.S. SA\n",
      "Year: 2015\n",
      "Min #wins: 0\n",
      "Max #wins: 4\n",
      "Company corresponding to max #wins: 1\n",
      "Company corresponding to max #wins: Abionic SA\n",
      "Year: 2014\n",
      "Min #wins: 0\n",
      "Max #wins: 3\n",
      "Company corresponding to max #wins: 0\n",
      "Company corresponding to max #wins: InSphero AG\n",
      "Year: 2013\n",
      "Min #wins: 0\n",
      "Max #wins: 2\n",
      "Company corresponding to max #wins: 0\n",
      "Company corresponding to max #wins: HouseTrip SA (acquired by TripAdvisor)\n",
      "Year: 2012\n",
      "Min #wins: 0\n",
      "Max #wins: 1\n",
      "Company corresponding to max #wins: 0\n",
      "Company corresponding to max #wins: HouseTrip SA (acquired by TripAdvisor)\n",
      "Year: 2011\n",
      "Min #wins: 0\n",
      "Max #wins: 0\n",
      "Company corresponding to max #wins: 0\n",
      "Company corresponding to max #wins: Optotune AG\n"
     ]
    }
   ],
   "source": [
    "# For each startup, search for the startup name in the database of the previous years and increment a counter.\n",
    "for year in years :\n",
    "    dfDict[year]['Previous wins'] = dfDict[year]['Startup'].apply(count,year=year)\n",
    "    print('Year:', year)\n",
    "    print('Min #wins:', dfDict[year]['Previous wins'].min())\n",
    "    print('Max #wins:', dfDict[year]['Previous wins'].max())\n",
    "    idmax = dfDict[year]['Previous wins'].idxmax()\n",
    "    print('Company corresponding to max #wins:', idmax)\n",
    "    startup_max = dfDict[year]['Startup'][idmax]\n",
    "    print('Company corresponding to max #wins:',startup_max)"
   ]
  },
  {
   "cell_type": "code",
   "execution_count": 99,
   "metadata": {
    "collapsed": false
   },
   "outputs": [
    {
     "data": {
      "text/html": [
       "<div>\n",
       "<table border=\"1\" class=\"dataframe\">\n",
       "  <thead>\n",
       "    <tr style=\"text-align: right;\">\n",
       "      <th></th>\n",
       "      <th>Rank</th>\n",
       "      <th>Startup</th>\n",
       "      <th>Description</th>\n",
       "      <th>City</th>\n",
       "      <th>Year</th>\n",
       "      <th>Previous wins</th>\n",
       "    </tr>\n",
       "  </thead>\n",
       "  <tbody>\n",
       "    <tr>\n",
       "      <th>0</th>\n",
       "      <td>1.0</td>\n",
       "      <td>HouseTrip SA (acquired by TripAdvisor)</td>\n",
       "      <td>HouseTrip is one of Europe’s largest holiday r...</td>\n",
       "      <td>London W1T 7RJ</td>\n",
       "      <td>2009</td>\n",
       "      <td>1</td>\n",
       "    </tr>\n",
       "  </tbody>\n",
       "</table>\n",
       "</div>"
      ],
      "text/plain": [
       "   Rank                                 Startup  \\\n",
       "0   1.0  HouseTrip SA (acquired by TripAdvisor)   \n",
       "\n",
       "                                         Description            City  Year  \\\n",
       "0  HouseTrip is one of Europe’s largest holiday r...  London W1T 7RJ  2009   \n",
       "\n",
       "   Previous wins  \n",
       "0              1  "
      ]
     },
     "execution_count": 99,
     "metadata": {},
     "output_type": "execute_result"
    }
   ],
   "source": [
    "# Check the 2012 startup that won the highest number of times in the past.\n",
    "dfDict[2012].query(\"Startup=='HouseTrip SA (acquired by TripAdvisor)'\")"
   ]
  },
  {
   "cell_type": "code",
   "execution_count": 100,
   "metadata": {
    "collapsed": false
   },
   "outputs": [
    {
     "name": "stdout",
     "output_type": "stream",
     "text": [
      "0    0\n",
      "1    0\n",
      "2    0\n",
      "3    0\n",
      "4    0\n",
      "Name: Previous wins, dtype: int64\n",
      "0\n",
      "0\n"
     ]
    }
   ],
   "source": [
    "# Example for 2011 dataset. In this case, there are no previous years available, so it makes sense that the cunter is zero for all startups.\n",
    "dfDict[2011]['Previous wins'] = dfDict[2011]['Startup'].apply(count,year=2011)\n",
    "print(dfDict[2011]['Previous wins'].head())\n",
    "print(dfDict[2011]['Previous wins'].min())\n",
    "print(dfDict[2011]['Previous wins'].max())"
   ]
  },
  {
   "cell_type": "markdown",
   "metadata": {},
   "source": [
    "# Keywords and information retrieval"
   ]
  },
  {
   "cell_type": "code",
   "execution_count": 101,
   "metadata": {
    "collapsed": true
   },
   "outputs": [],
   "source": [
    "# Add information on sector and keywords for each startup in the historical database.\n",
    "# How?\n",
    "\n",
    "# Field we might want to add: \n",
    "# \"Uni spin-off\", \n",
    "# \"Technology\", \n",
    "# \"Incorporation Date\",\n",
    "# \"Number of Employees\"."
   ]
  },
  {
   "cell_type": "markdown",
   "metadata": {},
   "source": [
    "# 2018 data"
   ]
  },
  {
   "cell_type": "code",
   "execution_count": 102,
   "metadata": {
    "collapsed": true
   },
   "outputs": [],
   "source": [
    "df2018 = pd.read_excel(\"../data/startup.ch 2013 - 2018.xlsx\")"
   ]
  },
  {
   "cell_type": "code",
   "execution_count": 103,
   "metadata": {
    "collapsed": false
   },
   "outputs": [
    {
     "data": {
      "text/html": [
       "<div>\n",
       "<table border=\"1\" class=\"dataframe\">\n",
       "  <thead>\n",
       "    <tr style=\"text-align: right;\">\n",
       "      <th></th>\n",
       "      <th>Salutation</th>\n",
       "      <th>Firstname</th>\n",
       "      <th>Lastname</th>\n",
       "      <th>Company</th>\n",
       "      <th>City</th>\n",
       "      <th>Uni spin-off</th>\n",
       "      <th>Technology</th>\n",
       "      <th>Incorporation Date</th>\n",
       "      <th>Number of Employees</th>\n",
       "      <th>1Liner</th>\n",
       "      <th>Description</th>\n",
       "    </tr>\n",
       "  </thead>\n",
       "  <tbody>\n",
       "    <tr>\n",
       "      <th>0</th>\n",
       "      <td>Cher Monsieur</td>\n",
       "      <td>Osiris</td>\n",
       "      <td>Marroquin</td>\n",
       "      <td>ImmunOs Therapeutics GmbH</td>\n",
       "      <td>Basel</td>\n",
       "      <td>Swiss Federal Institute of Technology Lausanne...</td>\n",
       "      <td>Biotech</td>\n",
       "      <td>2014-12-09</td>\n",
       "      <td>NaN</td>\n",
       "      <td>Drug development using a novel method to antag...</td>\n",
       "      <td>ImmunOs Therapeutics AG is leading the next ge...</td>\n",
       "    </tr>\n",
       "    <tr>\n",
       "      <th>1</th>\n",
       "      <td>Dear Dr.</td>\n",
       "      <td>Srinivasan</td>\n",
       "      <td>Murali</td>\n",
       "      <td>SmartCardia SA</td>\n",
       "      <td>Lausanne</td>\n",
       "      <td>Swiss Federal Institute of Technology Lausanne...</td>\n",
       "      <td>Micro-, Nano Technology</td>\n",
       "      <td>2013-10-29</td>\n",
       "      <td>NaN</td>\n",
       "      <td>Cloud based cardiac solution</td>\n",
       "      <td>We have developed an ultra-small portable card...</td>\n",
       "    </tr>\n",
       "    <tr>\n",
       "      <th>2</th>\n",
       "      <td>Dear</td>\n",
       "      <td>Mark-Eric</td>\n",
       "      <td>Jones</td>\n",
       "      <td>Leman Micro Devices SA</td>\n",
       "      <td>Lausanne</td>\n",
       "      <td>Andere - Autres - Others</td>\n",
       "      <td>Micro-, Nano Technology</td>\n",
       "      <td>2013-01-29</td>\n",
       "      <td>NaN</td>\n",
       "      <td>Bringing the latest digital technology to the ...</td>\n",
       "      <td>A personal health monitor in your smartphone: ...</td>\n",
       "    </tr>\n",
       "    <tr>\n",
       "      <th>3</th>\n",
       "      <td>Sehr geehrter Herr</td>\n",
       "      <td>Bertrand</td>\n",
       "      <td>Baeriswyl</td>\n",
       "      <td>FairTrace SA</td>\n",
       "      <td>Sierre</td>\n",
       "      <td>Andere - Autres - Others</td>\n",
       "      <td>Software</td>\n",
       "      <td>2013-10-01</td>\n",
       "      <td>2.0</td>\n",
       "      <td>Allowing the user to know the origin, the cycl...</td>\n",
       "      <td>The Company\\r\\n\\r\\nFairTrace is a Swiss compan...</td>\n",
       "    </tr>\n",
       "    <tr>\n",
       "      <th>4</th>\n",
       "      <td>Dear Mr.</td>\n",
       "      <td>Rajwinder</td>\n",
       "      <td>Lehal</td>\n",
       "      <td>Cellestia Biotech AG</td>\n",
       "      <td>Basel</td>\n",
       "      <td>Swiss Federal Institute of Technology Lausanne...</td>\n",
       "      <td>Biotech</td>\n",
       "      <td>2014-05-20</td>\n",
       "      <td>7.0</td>\n",
       "      <td>Targeted anti-cancer therapy</td>\n",
       "      <td>Cellestia focuses on small molecules capable o...</td>\n",
       "    </tr>\n",
       "  </tbody>\n",
       "</table>\n",
       "</div>"
      ],
      "text/plain": [
       "           Salutation   Firstname   Lastname                    Company  \\\n",
       "0       Cher Monsieur      Osiris  Marroquin  ImmunOs Therapeutics GmbH   \n",
       "1            Dear Dr.  Srinivasan     Murali             SmartCardia SA   \n",
       "2                Dear   Mark-Eric      Jones     Leman Micro Devices SA   \n",
       "3  Sehr geehrter Herr    Bertrand  Baeriswyl               FairTrace SA   \n",
       "4            Dear Mr.   Rajwinder      Lehal       Cellestia Biotech AG   \n",
       "\n",
       "       City                                       Uni spin-off  \\\n",
       "0     Basel  Swiss Federal Institute of Technology Lausanne...   \n",
       "1  Lausanne  Swiss Federal Institute of Technology Lausanne...   \n",
       "2  Lausanne                           Andere - Autres - Others   \n",
       "3    Sierre                           Andere - Autres - Others   \n",
       "4     Basel  Swiss Federal Institute of Technology Lausanne...   \n",
       "\n",
       "                Technology Incorporation Date  Number of Employees  \\\n",
       "0                  Biotech         2014-12-09                  NaN   \n",
       "1  Micro-, Nano Technology         2013-10-29                  NaN   \n",
       "2  Micro-, Nano Technology         2013-01-29                  NaN   \n",
       "3                 Software         2013-10-01                  2.0   \n",
       "4                  Biotech         2014-05-20                  7.0   \n",
       "\n",
       "                                              1Liner  \\\n",
       "0  Drug development using a novel method to antag...   \n",
       "1                      Cloud based cardiac solution    \n",
       "2  Bringing the latest digital technology to the ...   \n",
       "3  Allowing the user to know the origin, the cycl...   \n",
       "4                       Targeted anti-cancer therapy   \n",
       "\n",
       "                                         Description  \n",
       "0  ImmunOs Therapeutics AG is leading the next ge...  \n",
       "1  We have developed an ultra-small portable card...  \n",
       "2  A personal health monitor in your smartphone: ...  \n",
       "3  The Company\\r\\n\\r\\nFairTrace is a Swiss compan...  \n",
       "4  Cellestia focuses on small molecules capable o...  "
      ]
     },
     "execution_count": 103,
     "metadata": {},
     "output_type": "execute_result"
    }
   ],
   "source": [
    "df2018.head()"
   ]
  },
  {
   "cell_type": "code",
   "execution_count": 107,
   "metadata": {
    "collapsed": false
   },
   "outputs": [
    {
     "name": "stdout",
     "output_type": "stream",
     "text": [
      "Available information: Index(['Salutation', 'Firstname', 'Lastname', 'Company', 'City',\n",
      "       'Uni spin-off', 'Technology', 'Incorporation Date',\n",
      "       'Number of Employees', '1Liner', 'Description'],\n",
      "      dtype='object')\n"
     ]
    }
   ],
   "source": [
    "print('Available information:',df2018.columns)"
   ]
  },
  {
   "cell_type": "code",
   "execution_count": 108,
   "metadata": {
    "collapsed": false
   },
   "outputs": [
    {
     "name": "stdout",
     "output_type": "stream",
     "text": [
      "Number of columns: 667\n",
      "Number of columns: 11\n"
     ]
    }
   ],
   "source": [
    "print('Number of columns:',df2018.shape[0])\n",
    "print('Number of columns:',df2018.shape[1])"
   ]
  },
  {
   "cell_type": "code",
   "execution_count": 109,
   "metadata": {
    "collapsed": false
   },
   "outputs": [
    {
     "name": "stdout",
     "output_type": "stream",
     "text": [
      "Index(['Salutation', 'Firstname', 'Lastname', 'Company', 'City',\n",
      "       'Uni spin-off', 'Technology', 'Incorporation Date',\n",
      "       'Number of Employees', '1Liner', 'Description'],\n",
      "      dtype='object')\n"
     ]
    }
   ],
   "source": [
    "features = df2018.columns\n",
    "print(features)"
   ]
  },
  {
   "cell_type": "code",
   "execution_count": 111,
   "metadata": {
    "collapsed": false
   },
   "outputs": [
    {
     "name": "stdout",
     "output_type": "stream",
     "text": [
      "           Salutation   Firstname   Lastname                    Company  \\\n",
      "0       Cher Monsieur      Osiris  Marroquin  ImmunOs Therapeutics GmbH   \n",
      "1            Dear Dr.  Srinivasan     Murali             SmartCardia SA   \n",
      "2                Dear   Mark-Eric      Jones     Leman Micro Devices SA   \n",
      "3  Sehr geehrter Herr    Bertrand  Baeriswyl               FairTrace SA   \n",
      "4            Dear Mr.   Rajwinder      Lehal       Cellestia Biotech AG   \n",
      "\n",
      "       City                                       Uni spin-off  \\\n",
      "0     Basel  Swiss Federal Institute of Technology Lausanne...   \n",
      "1  Lausanne  Swiss Federal Institute of Technology Lausanne...   \n",
      "2  Lausanne                           Andere - Autres - Others   \n",
      "3    Sierre                           Andere - Autres - Others   \n",
      "4     Basel  Swiss Federal Institute of Technology Lausanne...   \n",
      "\n",
      "                Technology Incorporation Date  Number of Employees  \\\n",
      "0                  Biotech         2014-12-09                  NaN   \n",
      "1  Micro-, Nano Technology         2013-10-29                  NaN   \n",
      "2  Micro-, Nano Technology         2013-01-29                  NaN   \n",
      "3                 Software         2013-10-01                  2.0   \n",
      "4                  Biotech         2014-05-20                  7.0   \n",
      "\n",
      "                                              1Liner  \\\n",
      "0  Drug development using a novel method to antag...   \n",
      "1                      Cloud based cardiac solution    \n",
      "2  Bringing the latest digital technology to the ...   \n",
      "3  Allowing the user to know the origin, the cycl...   \n",
      "4                       Targeted anti-cancer therapy   \n",
      "\n",
      "                                         Description  Year  \n",
      "0  ImmunOs Therapeutics AG is leading the next ge...  2014  \n",
      "1  We have developed an ultra-small portable card...  2013  \n",
      "2  A personal health monitor in your smartphone: ...  2013  \n",
      "3  The Company\\r\\n\\r\\nFairTrace is a Swiss compan...  2013  \n",
      "4  Cellestia focuses on small molecules capable o...  2014  \n"
     ]
    }
   ],
   "source": [
    "df2018['Year'] = df2018['Incorporation Date'].dt.year\n",
    "print(df2018.head())"
   ]
  },
  {
   "cell_type": "markdown",
   "metadata": {},
   "source": [
    "# Machine learning"
   ]
  },
  {
   "cell_type": "markdown",
   "metadata": {},
   "source": [
    "Information on one-class classification:\n",
    "http://scikit-learn.org/stable/auto_examples/svm/plot_oneclass.html"
   ]
  },
  {
   "cell_type": "code",
   "execution_count": 17,
   "metadata": {
    "collapsed": true
   },
   "outputs": [],
   "source": [
    "import numpy as np\n",
    "import matplotlib.pyplot as plt\n",
    "import matplotlib.font_manager\n",
    "from sklearn import svm"
   ]
  },
  {
   "cell_type": "code",
   "execution_count": null,
   "metadata": {
    "collapsed": true
   },
   "outputs": [],
   "source": [
    "X_train = \n",
    "X_test = \n",
    "X_outliers = "
   ]
  },
  {
   "cell_type": "code",
   "execution_count": null,
   "metadata": {
    "collapsed": true
   },
   "outputs": [],
   "source": [
    "clf = svm.OneClassSVM(nu=0.1,kernel=\"rbf\",gamma=0.1)\n",
    "clf.fit(X_train)\n",
    "y_pred_train = clf.predict(X_train)\n",
    "y_pred_test = clf.predict(X_test)\n",
    "y_pred_outliers = clf.predict(X_outliers)\n",
    "n_error_train = y_pred_train[y_pred_train == -1].size\n",
    "n_error_test = y_pred_test[y_pred_test == -1].size\n",
    "n_error_outliers = y_pred_outliers[y_pred_outliers == 1].size"
   ]
  }
 ],
 "metadata": {
  "anaconda-cloud": {},
  "kernelspec": {
   "display_name": "Python [default]",
   "language": "python",
   "name": "python3"
  },
  "language_info": {
   "codemirror_mode": {
    "name": "ipython",
    "version": 3
   },
   "file_extension": ".py",
   "mimetype": "text/x-python",
   "name": "python",
   "nbconvert_exporter": "python",
   "pygments_lexer": "ipython3",
   "version": "3.5.2"
  }
 },
 "nbformat": 4,
 "nbformat_minor": 1
}
